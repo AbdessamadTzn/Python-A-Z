{
 "cells": [
  {
   "cell_type": "markdown",
   "id": "7c303100-17a5-4a15-8f92-cbb00d54c2f4",
   "metadata": {},
   "source": [
    "![My Image](banner.png)"
   ]
  },
  {
   "cell_type": "markdown",
   "id": "b34ae3e9-c199-4489-b5e3-7b782d871d42",
   "metadata": {},
   "source": [
    "# Python A-Z: Section 1\n",
    "# By **[Abdessamad Touzani](https://www.linkedin.com/in/abdessamadtouzani/)**\n",
    "## I) Mots clés, identificateurs et Instructions\n",
    "### 1. Mots clés et identificateurs:"
   ]
  },
  {
   "cell_type": "code",
   "execution_count": 19,
   "id": "3000e6e3-60b5-41ac-bc92-4d6698f22678",
   "metadata": {},
   "outputs": [],
   "source": [
    "nom = \"Katsky Studio\""
   ]
  },
  {
   "cell_type": "code",
   "execution_count": 21,
   "id": "43fea8cd-1c6b-4a9e-9e09-0a797f24e333",
   "metadata": {},
   "outputs": [
    {
     "name": "stdout",
     "output_type": "stream",
     "text": [
      "Katsky Studio\n"
     ]
    }
   ],
   "source": [
    "print(nom)"
   ]
  },
  {
   "cell_type": "code",
   "execution_count": 22,
   "id": "10393dff-2e05-4837-8cd1-c9540c629be1",
   "metadata": {},
   "outputs": [
    {
     "data": {
      "text/plain": [
       "'Katsky Studio'"
      ]
     },
     "execution_count": 22,
     "metadata": {},
     "output_type": "execute_result"
    }
   ],
   "source": [
    "nom"
   ]
  },
  {
   "cell_type": "code",
   "execution_count": 23,
   "id": "8d87b29a-5f19-4663-85e4-d89c052d2882",
   "metadata": {},
   "outputs": [
    {
     "ename": "SyntaxError",
     "evalue": "invalid decimal literal (914375219.py, line 2)",
     "output_type": "error",
     "traceback": [
      "\u001b[1;36m  Cell \u001b[1;32mIn[23], line 2\u001b[1;36m\u001b[0m\n\u001b[1;33m    3nom = \"HYDJDK\"\u001b[0m\n\u001b[1;37m    ^\u001b[0m\n\u001b[1;31mSyntaxError\u001b[0m\u001b[1;31m:\u001b[0m invalid decimal literal\n"
     ]
    }
   ],
   "source": [
    "#Il peut pas commencer avec un nombre\n",
    "3nom = \"HYDJDK\""
   ]
  },
  {
   "cell_type": "code",
   "execution_count": 25,
   "id": "cd38b9ee-b823-4f60-bdef-fe2bb16895bc",
   "metadata": {},
   "outputs": [],
   "source": [
    "Nom = \"KDSKSDK\"\n",
    "_nom =  \"JDJKDLD\""
   ]
  },
  {
   "cell_type": "code",
   "execution_count": 28,
   "id": "79e958f2-0769-41a6-90ab-7f1808e35c04",
   "metadata": {},
   "outputs": [
    {
     "data": {
      "text/plain": [
       "'KDSKSDK'"
      ]
     },
     "execution_count": 28,
     "metadata": {},
     "output_type": "execute_result"
    }
   ],
   "source": [
    "Nom"
   ]
  },
  {
   "cell_type": "code",
   "execution_count": 29,
   "id": "6fa7a677-53d6-487a-944f-8c32ca9553e4",
   "metadata": {},
   "outputs": [
    {
     "data": {
      "text/plain": [
       "int"
      ]
     },
     "execution_count": 29,
     "metadata": {},
     "output_type": "execute_result"
    }
   ],
   "source": [
    "x = 9\n",
    "type(x)"
   ]
  },
  {
   "cell_type": "code",
   "execution_count": 30,
   "id": "cd0b8394-6b5a-4b76-9cb3-87288e35d706",
   "metadata": {},
   "outputs": [
    {
     "data": {
      "text/plain": [
       "str"
      ]
     },
     "execution_count": 30,
     "metadata": {},
     "output_type": "execute_result"
    }
   ],
   "source": [
    "y = 'C'\n",
    "type(y)"
   ]
  },
  {
   "cell_type": "markdown",
   "id": "877e8f0c-7657-49c2-9bed-1ed3fa6fb159",
   "metadata": {},
   "source": [
    "## 2.Instructions (Statements)"
   ]
  },
  {
   "cell_type": "code",
   "execution_count": 33,
   "id": "60fea64b-db5b-45fb-835d-1efcc2e683ed",
   "metadata": {},
   "outputs": [
    {
     "data": {
      "text/plain": [
       "793"
      ]
     },
     "execution_count": 33,
     "metadata": {},
     "output_type": "execute_result"
    }
   ],
   "source": [
    "x = 78+78+637 #insyruction dans une seule ligne\n",
    "x"
   ]
  },
  {
   "cell_type": "code",
   "execution_count": 35,
   "id": "ee6f1452-5368-4d08-8e45-a4bcde21b916",
   "metadata": {},
   "outputs": [
    {
     "data": {
      "text/plain": [
       "156"
      ]
     },
     "execution_count": 35,
     "metadata": {},
     "output_type": "execute_result"
    }
   ],
   "source": [
    "z = 89 + \\\n",
    "56 + 5 + \\\n",
    "6\n",
    "z  #instruction dans +ieurs lignes"
   ]
  },
  {
   "cell_type": "code",
   "execution_count": 36,
   "id": "3b7799a4-a793-45aa-827e-1a6015d195cd",
   "metadata": {},
   "outputs": [
    {
     "data": {
      "text/plain": [
       "['Pomme', 'Banane', 'Ananas']"
      ]
     },
     "execution_count": 36,
     "metadata": {},
     "output_type": "execute_result"
    }
   ],
   "source": [
    "fruits = [\"Pomme\",\n",
    "         \"Banane\", \"Ananas\"]\n",
    "fruits"
   ]
  },
  {
   "cell_type": "markdown",
   "id": "f607b8ca-b06a-4725-b098-220d005e74c1",
   "metadata": {},
   "source": [
    "## II) Indentation et Commentaires"
   ]
  },
  {
   "cell_type": "markdown",
   "id": "76175641-3252-4105-9e84-768944551daa",
   "metadata": {},
   "source": [
    "### 1. Indentations"
   ]
  },
  {
   "cell_type": "code",
   "execution_count": 5,
   "id": "bf50ca34-ead7-4350-83db-06592a66ecf6",
   "metadata": {},
   "outputs": [
    {
     "name": "stdout",
     "output_type": "stream",
     "text": [
      "0\n",
      "1\n",
      "2\n",
      "3\n"
     ]
    }
   ],
   "source": [
    "for i in range(0, 5):\n",
    "    print(i)\n",
    "    if i == 3:\n",
    "        break\n",
    "#rendre le code plus aisément lisibles - La lisibilitée du code."
   ]
  },
  {
   "cell_type": "markdown",
   "id": "b10a079e-d770-41c5-862b-09b4ce177aff",
   "metadata": {},
   "source": [
    "### 2. Commentaires:"
   ]
  },
  {
   "cell_type": "markdown",
   "id": "4ccbe454-6b58-453b-97a5-f05766b86533",
   "metadata": {},
   "source": [
    "- La description du code\n",
    "- La lisibilitée du code"
   ]
  },
  {
   "cell_type": "code",
   "execution_count": 7,
   "id": "8ae44df7-4191-4517-ab5f-1d423986d83b",
   "metadata": {},
   "outputs": [
    {
     "name": "stdout",
     "output_type": "stream",
     "text": [
      "Tache terminé\n"
     ]
    }
   ],
   "source": [
    "# Afficher Tache termine\n",
    "print(\"Tache terminé\")"
   ]
  },
  {
   "cell_type": "code",
   "execution_count": 8,
   "id": "4f94f18b-e141-4662-9dc6-38beb6f302a5",
   "metadata": {},
   "outputs": [
    {
     "name": "stdout",
     "output_type": "stream",
     "text": [
      "0\n",
      "1\n",
      "2\n",
      "3\n"
     ]
    }
   ],
   "source": [
    "'''\n",
    "HJIWEKNCOWEP\n",
    "INVFOJENIOF\n",
    "VNIUHWEIO\n",
    "'''\n",
    "for i in range(0, 5):\n",
    "    print(i)\n",
    "    if i == 3:\n",
    "        break"
   ]
  },
  {
   "cell_type": "markdown",
   "id": "e5078ac2-8685-43af-aa15-04edc798e5f4",
   "metadata": {},
   "source": [
    "*Suivez-nous: [Katsky Studio](https://lnk.bio/katskystudio)  \n",
    "**Keep It Real**"
   ]
  }
 ],
 "metadata": {
  "kernelspec": {
   "display_name": "Python 3 (ipykernel)",
   "language": "python",
   "name": "python3"
  },
  "language_info": {
   "codemirror_mode": {
    "name": "ipython",
    "version": 3
   },
   "file_extension": ".py",
   "mimetype": "text/x-python",
   "name": "python",
   "nbconvert_exporter": "python",
   "pygments_lexer": "ipython3",
   "version": "3.11.5"
  }
 },
 "nbformat": 4,
 "nbformat_minor": 5
}
