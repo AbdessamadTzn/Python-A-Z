{
 "cells": [
  {
   "cell_type": "markdown",
   "id": "231c6126-2dd7-45d4-b4f9-c1bec714501e",
   "metadata": {},
   "source": [
    "![My Image](banner.png)"
   ]
  },
  {
   "cell_type": "markdown",
   "id": "2de4cc4e-10f1-477d-8931-5bdbeb530ce6",
   "metadata": {},
   "source": [
    "# Python A-Z: Section 2\n",
    "# By **[Abdessamad Touzani](https://www.linkedin.com/in/abdessamadtouzani/)**"
   ]
  },
  {
   "cell_type": "markdown",
   "id": "5c0d9b0a-6bb4-45ef-92cb-5215d15f0bc6",
   "metadata": {},
   "source": [
    "## I) Les variables :"
   ]
  },
  {
   "cell_type": "markdown",
   "id": "604991de-9aab-49ed-b774-c7e67f8278cc",
   "metadata": {
    "jp-MarkdownHeadingCollapsed": true
   },
   "source": [
    "- Conteneur de données.\n",
    "- Stocker différents types de données.\n",
    "- Emplacement nommé.\n",
    "### Règles pour nommer une variable :\n",
    "- Commencer par une lettre ou _\n",
    "- Ne peut pas commencer par un nombre.\n",
    "- Peut contenir A-z, 1-9, et _\n",
    "- Sensible à la casse (nom n'est pas équivalent à Nom)."
   ]
  },
  {
   "cell_type": "code",
   "execution_count": 1,
   "id": "f0b8517c-8d03-4bad-84db-10069e204c0e",
   "metadata": {},
   "outputs": [],
   "source": [
    "#Exemple:\n",
    "nombre = 6"
   ]
  },
  {
   "cell_type": "code",
   "execution_count": 2,
   "id": "95a156a8-d328-4a8c-9882-2c7dde41038c",
   "metadata": {},
   "outputs": [
    {
     "data": {
      "text/plain": [
       "6"
      ]
     },
     "execution_count": 2,
     "metadata": {},
     "output_type": "execute_result"
    }
   ],
   "source": [
    "nombre"
   ]
  },
  {
   "cell_type": "code",
   "execution_count": 3,
   "id": "a4a821ea-e0a8-4c59-82c6-fff754aa98c2",
   "metadata": {},
   "outputs": [],
   "source": [
    "nom = \"Katsky\""
   ]
  },
  {
   "cell_type": "code",
   "execution_count": 4,
   "id": "25c8f763-8ed9-458d-920f-10a8ab2c9406",
   "metadata": {},
   "outputs": [
    {
     "data": {
      "text/plain": [
       "'Katsky'"
      ]
     },
     "execution_count": 4,
     "metadata": {},
     "output_type": "execute_result"
    }
   ],
   "source": [
    "nom"
   ]
  },
  {
   "cell_type": "code",
   "execution_count": 5,
   "id": "642e8bff-75bb-4c19-bd0f-b749a0981c1d",
   "metadata": {},
   "outputs": [
    {
     "ename": "NameError",
     "evalue": "name 'Nom' is not defined",
     "output_type": "error",
     "traceback": [
      "\u001b[1;31m---------------------------------------------------------------------------\u001b[0m",
      "\u001b[1;31mNameError\u001b[0m                                 Traceback (most recent call last)",
      "Cell \u001b[1;32mIn[5], line 1\u001b[0m\n\u001b[1;32m----> 1\u001b[0m \u001b[43mNom\u001b[49m\n",
      "\u001b[1;31mNameError\u001b[0m: name 'Nom' is not defined"
     ]
    }
   ],
   "source": [
    "Nom"
   ]
  },
  {
   "cell_type": "code",
   "execution_count": 6,
   "id": "76f7464c-b5d1-4ee4-9e5b-4e7bd7fc7b37",
   "metadata": {},
   "outputs": [],
   "source": [
    "nombre = 10\n",
    "nombre = 11\n",
    "nombre = 30"
   ]
  },
  {
   "cell_type": "code",
   "execution_count": 7,
   "id": "42dca12f-ac24-4a19-9983-8462a73e1f4f",
   "metadata": {},
   "outputs": [
    {
     "data": {
      "text/plain": [
       "30"
      ]
     },
     "execution_count": 7,
     "metadata": {},
     "output_type": "execute_result"
    }
   ],
   "source": [
    "# La dérnière valeur affecté à l variable c'est elle qui prévaut\n",
    "nombre"
   ]
  },
  {
   "cell_type": "markdown",
   "id": "785ec630-2fdc-4726-bf4b-9bd05151f66f",
   "metadata": {},
   "source": [
    "Dans python, on affecte pas les valeurs aux variables, en revanche python donne la réference de l'objet ou de la valeur à la variable."
   ]
  },
  {
   "cell_type": "markdown",
   "id": "25765558-7d61-403d-aa44-c1cd1835a6b2",
   "metadata": {},
   "source": [
    "#### Tout en python est considéré comme un objet."
   ]
  },
  {
   "cell_type": "markdown",
   "id": "eea191e8-7563-4e2c-8ac2-0f1eaff527e1",
   "metadata": {},
   "source": [
    "### II) Affectation des +ieurs valeurs à +ieurs variables :"
   ]
  },
  {
   "cell_type": "code",
   "execution_count": 9,
   "id": "d0f18751-c69f-4a68-a4ee-cc8895966c55",
   "metadata": {},
   "outputs": [
    {
     "name": "stdout",
     "output_type": "stream",
     "text": [
      "7\n",
      "8.9\n",
      "10\n",
      "Katsky\n"
     ]
    }
   ],
   "source": [
    "a, b, c, nom = 7, 8.9, 10, \"Katsky\"\n",
    "print(a)\n",
    "print(b)\n",
    "print(c)\n",
    "print(nom)"
   ]
  },
  {
   "cell_type": "code",
   "execution_count": 10,
   "id": "1995c1f8-2f20-4755-b7e5-6e26289b39d6",
   "metadata": {},
   "outputs": [
    {
     "name": "stdout",
     "output_type": "stream",
     "text": [
      "Abdessamad\n",
      "Abdessamad\n",
      "Abdessamad\n"
     ]
    }
   ],
   "source": [
    "a = b = c = \"Abdessamad\"\n",
    "print(a)\n",
    "print(b)\n",
    "print(c)"
   ]
  },
  {
   "cell_type": "markdown",
   "id": "bdd0dec0-b4ee-4db0-a32f-7bfd610f8cb8",
   "metadata": {},
   "source": [
    "### III) Les Constantes :"
   ]
  },
  {
   "cell_type": "code",
   "execution_count": 11,
   "id": "9a2e8a73-21d7-4214-8cae-394dbe640a72",
   "metadata": {},
   "outputs": [
    {
     "data": {
      "text/plain": [
       "3.14"
      ]
     },
     "execution_count": 11,
     "metadata": {},
     "output_type": "execute_result"
    }
   ],
   "source": [
    "PI = 3.14\n",
    "PI"
   ]
  },
  {
   "cell_type": "markdown",
   "id": "6daf9434-7488-4cd7-a36b-a847caad71eb",
   "metadata": {},
   "source": [
    "- Ne peut pas etre changé\n",
    "- Coneneurs\n",
    "- Lettres majuscules"
   ]
  },
  {
   "cell_type": "code",
   "execution_count": 12,
   "id": "965ca5dc-f7c9-41c1-b51f-a3a87efcbd78",
   "metadata": {},
   "outputs": [],
   "source": [
    "GRAVITY = 9.8"
   ]
  },
  {
   "cell_type": "code",
   "execution_count": 13,
   "id": "1d1f5727-ea69-4b59-a1f5-f0841a1abb61",
   "metadata": {},
   "outputs": [
    {
     "data": {
      "text/plain": [
       "9.8"
      ]
     },
     "execution_count": 13,
     "metadata": {},
     "output_type": "execute_result"
    }
   ],
   "source": [
    "GRAVITY"
   ]
  },
  {
   "cell_type": "code",
   "execution_count": 14,
   "id": "0b0a8ebf-f0b1-4a87-ae6e-a75912ed1692",
   "metadata": {},
   "outputs": [],
   "source": [
    "GRAVITY = 10"
   ]
  },
  {
   "cell_type": "markdown",
   "id": "4a7a8a0b-8a57-4c55-867d-c7bbb8f83ae3",
   "metadata": {},
   "source": [
    "*Malgré la convention d'utilisation des lettres majuscules pour la déclaration des constatnts, en python, on peut changer sa valeur sans aucune erreur, chose qui n'est pas le but d'utilisation des constants dans la programmation en général.*"
   ]
  },
  {
   "cell_type": "code",
   "execution_count": 16,
   "id": "a05a2185-db48-4287-9d75-7eb408e579cb",
   "metadata": {},
   "outputs": [
    {
     "data": {
      "text/plain": [
       "10"
      ]
     },
     "execution_count": 16,
     "metadata": {},
     "output_type": "execute_result"
    }
   ],
   "source": [
    "#exemple\n",
    "GRAVITY"
   ]
  },
  {
   "cell_type": "markdown",
   "id": "29259a1b-2208-4e76-aac5-c7c0d2aebd6e",
   "metadata": {},
   "source": [
    "## II) Littéraux :"
   ]
  },
  {
   "cell_type": "markdown",
   "id": "5f0d5eb4-1980-4ab6-9a8a-ce7fd47551e8",
   "metadata": {},
   "source": [
    "### Littéraux numériques :"
   ]
  },
  {
   "cell_type": "markdown",
   "id": "a3044cda-eeac-4caf-a287-224122f72cc0",
   "metadata": {},
   "source": [
    "- Inchangeable (Immutable)\n",
    "\n",
    "càd une fois qu'une valeur numérique est assignée à une variable, cette valeur ne peut pas être modifiée. Les opérations sur les nombres créent généralement de nouvelles valeurs plutôt que de modifier les valeurs existantes."
   ]
  },
  {
   "cell_type": "markdown",
   "id": "71c6e817-c4fd-4ce3-a340-7baf390fa398",
   "metadata": {},
   "source": [
    "- Int, Float, Complex"
   ]
  },
  {
   "cell_type": "code",
   "execution_count": 19,
   "id": "004288f3-ea5b-4c8b-bcfe-a7e266d07aa2",
   "metadata": {},
   "outputs": [],
   "source": [
    "num1 = 0b1010 #binaire\n",
    "num2 = 50 #décimale\n",
    "num3 = 0o310 #octale\n",
    "num4 = 0x12c #hexa\n",
    "\n",
    "num5 = 11.7 #float\n",
    "num6 = 1.5e2 #notation exponentielle | scientifique\n",
    "\n",
    "num7 = 7.8j #Complexe\n"
   ]
  },
  {
   "cell_type": "code",
   "execution_count": 20,
   "id": "8a9ff603-a1d0-4b26-967f-f96bef6078c2",
   "metadata": {},
   "outputs": [
    {
     "name": "stdout",
     "output_type": "stream",
     "text": [
      "10 50 200 300\n"
     ]
    }
   ],
   "source": [
    "print(num1, num2, num3, num4)"
   ]
  },
  {
   "cell_type": "code",
   "execution_count": 21,
   "id": "41e2c160-d64c-4b36-a73e-ed29b6703cb7",
   "metadata": {},
   "outputs": [
    {
     "name": "stdout",
     "output_type": "stream",
     "text": [
      "11.7 150.0\n"
     ]
    }
   ],
   "source": [
    "print(num5, num6)"
   ]
  },
  {
   "cell_type": "code",
   "execution_count": 24,
   "id": "6aaecaba-7665-4341-a18b-a4a30f97a2c2",
   "metadata": {},
   "outputs": [
    {
     "name": "stdout",
     "output_type": "stream",
     "text": [
      "7.8j\n",
      "7.8\n",
      "0.0\n"
     ]
    }
   ],
   "source": [
    "print(num7)\n",
    "print(num7.imag)\n",
    "print(num7.real)"
   ]
  },
  {
   "cell_type": "markdown",
   "id": "92ba03dd-80b0-452e-8683-33bff6c3bf9f",
   "metadata": {},
   "source": [
    "### Littéraux chaîne de caractères :"
   ]
  },
  {
   "cell_type": "markdown",
   "id": "a911d036-50e9-4d8b-9095-15ef732ac1d0",
   "metadata": {},
   "source": [
    "*Dans python, chaîne de caractères est une séquence de caractères Unicode.*"
   ]
  },
  {
   "cell_type": "markdown",
   "id": "8cff83b3-0ce2-42df-aeb3-e3677b67b06a",
   "metadata": {},
   "source": [
    "- Chaîne de caractères dans une seule ligne. \n",
    "- Chaîne de caractères dans multi lignes."
   ]
  },
  {
   "cell_type": "code",
   "execution_count": 30,
   "id": "f8f41afa-98b0-4405-8892-ce599eefe6e1",
   "metadata": {},
   "outputs": [
    {
     "name": "stdout",
     "output_type": "stream",
     "text": [
      "Programming is fun\n",
      "Programming is fun to learn\n"
     ]
    }
   ],
   "source": [
    "message = \"Programming is fun\"\n",
    "message1 = 'Programming is fun to learn'\n",
    "print(message)\n",
    "print(message1)"
   ]
  },
  {
   "cell_type": "code",
   "execution_count": 32,
   "id": "96b89f02-fc9d-4028-a749-0d80e0bf17f5",
   "metadata": {},
   "outputs": [
    {
     "name": "stdout",
     "output_type": "stream",
     "text": [
      "K\n",
      "A\n"
     ]
    }
   ],
   "source": [
    "char = 'K'\n",
    "char1 = \"A\"\n",
    "print(char)\n",
    "print(char1)"
   ]
  },
  {
   "cell_type": "code",
   "execution_count": 36,
   "id": "a0e91706-d550-4a7e-9d4e-07d3c107611f",
   "metadata": {},
   "outputs": [],
   "source": [
    "multi_lignes = '''Le Lorem Ipsum est simplement \n",
    "du faux texte employé \n",
    "dans la composition et la \n",
    "mise en page avant \n",
    "impression.\n",
    "'''"
   ]
  },
  {
   "cell_type": "code",
   "execution_count": 37,
   "id": "bf6080ba-f614-418a-b728-43d805c7e4df",
   "metadata": {},
   "outputs": [
    {
     "name": "stdout",
     "output_type": "stream",
     "text": [
      "Le Lorem Ipsum est simplement \n",
      "du faux texte employé \n",
      "dans la composition et la \n",
      "mise en page avant \n",
      "impression.\n",
      "\n"
     ]
    }
   ],
   "source": [
    "print(multi_lignes)"
   ]
  },
  {
   "cell_type": "code",
   "execution_count": 41,
   "id": "900382be-23af-4ad6-90f2-2dc1ae7b981e",
   "metadata": {},
   "outputs": [
    {
     "name": "stdout",
     "output_type": "stream",
     "text": [
      "Ünic䀏6de\n"
     ]
    }
   ],
   "source": [
    "unicode = u\"\\u00dcnic\\u400f6de\"\n",
    "print(unicode)"
   ]
  },
  {
   "cell_type": "code",
   "execution_count": 49,
   "id": "b61c0214-78ae-468e-ae7d-c5f3f0f0f74b",
   "metadata": {},
   "outputs": [],
   "source": [
    "msg = \"jujutsu \\\\n kaisen\"\n",
    "msg2 = \"jujutsu\\\"s\"\n"
   ]
  },
  {
   "cell_type": "code",
   "execution_count": 50,
   "id": "60852417-4e4c-4153-a621-9d29c7e2e571",
   "metadata": {},
   "outputs": [
    {
     "name": "stdout",
     "output_type": "stream",
     "text": [
      "jujutsu\"s\n"
     ]
    }
   ],
   "source": [
    "print(msg2)"
   ]
  },
  {
   "cell_type": "code",
   "execution_count": 53,
   "id": "833059de-336a-40d4-95b7-014a7aebfbe8",
   "metadata": {},
   "outputs": [
    {
     "name": "stdout",
     "output_type": "stream",
     "text": [
      "jujutsu \\n kaisen\n"
     ]
    }
   ],
   "source": [
    "raw_string = r\"jujutsu \\n kaisen\"\n",
    "print(raw_string)"
   ]
  },
  {
   "cell_type": "markdown",
   "id": "b4e812a7-e0f3-4d41-8f42-e7a19b3481b6",
   "metadata": {},
   "source": [
    "### Littéraux boolean :"
   ]
  },
  {
   "cell_type": "markdown",
   "id": "221ba057-3c5b-4f2b-9dfb-58ada8f891ec",
   "metadata": {},
   "source": [
    "*Suivez-nous: [Katsky Studio](https://lnk.bio/katskystudio)*"
   ]
  },
  {
   "cell_type": "markdown",
   "id": "bb21ca44-7915-462d-a68c-079a826e16d6",
   "metadata": {},
   "source": [
    "**KEEP IT REAL**"
   ]
  }
 ],
 "metadata": {
  "kernelspec": {
   "display_name": "Python 3 (ipykernel)",
   "language": "python",
   "name": "python3"
  },
  "language_info": {
   "codemirror_mode": {
    "name": "ipython",
    "version": 3
   },
   "file_extension": ".py",
   "mimetype": "text/x-python",
   "name": "python",
   "nbconvert_exporter": "python",
   "pygments_lexer": "ipython3",
   "version": "3.11.5"
  }
 },
 "nbformat": 4,
 "nbformat_minor": 5
}
