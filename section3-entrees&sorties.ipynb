{
 "cells": [
  {
   "cell_type": "markdown",
   "id": "1d1f39c7-2a54-4553-a45f-bdb67811a51a",
   "metadata": {},
   "source": [
    "![My Image](banner.png)"
   ]
  },
  {
   "cell_type": "markdown",
   "id": "47a3fd59-80b8-4bd9-929a-ae3a559eba99",
   "metadata": {},
   "source": [
    "# Python A-Z: Section 3\n",
    "# By **[Abdessamad Touzani](https://www.linkedin.com/in/abdessamadtouzani/)**\n",
    "## Entrées et Sorties dans Python"
   ]
  },
  {
   "cell_type": "code",
   "execution_count": 1,
   "id": "0d0d4af5-59c0-499e-b71b-25bbda4ea53e",
   "metadata": {},
   "outputs": [
    {
     "name": "stdout",
     "output_type": "stream",
     "text": [
      "C'est une chaine de caracteres\n"
     ]
    }
   ],
   "source": [
    "print(\"C'est une chaine de caracteres\")"
   ]
  },
  {
   "cell_type": "code",
   "execution_count": 2,
   "id": "2101d3f8-6ba5-4c1a-8f26-d4fe5471dbbd",
   "metadata": {},
   "outputs": [
    {
     "name": "stdout",
     "output_type": "stream",
     "text": [
      "La valeur de x c'est : 12\n"
     ]
    }
   ],
   "source": [
    "#Affichaage du valeur d'une variable\n",
    "x = 12\n",
    "print(\"La valeur de x c'est :\", x)"
   ]
  },
  {
   "cell_type": "code",
   "execution_count": 3,
   "id": "2f4d2103-9298-4806-b1e0-5a1ba811f333",
   "metadata": {},
   "outputs": [
    {
     "name": "stdout",
     "output_type": "stream",
     "text": [
      "1 2 3 4\n"
     ]
    }
   ],
   "source": [
    "print(1, 2, 3, 4)"
   ]
  },
  {
   "cell_type": "code",
   "execution_count": 4,
   "id": "f5acf3ad-301a-433c-8471-608c7bdb78d5",
   "metadata": {},
   "outputs": [
    {
     "name": "stdout",
     "output_type": "stream",
     "text": [
      "1#2#3#4\n",
      "1#2#3#4&"
     ]
    }
   ],
   "source": [
    "print(1, 2, 3, 4, sep=\"#\") #pr defaut c'est une espace\n",
    "print(1, 2, 3, 4, sep=\"#\", end=\"&\")# end pr defaur c est un retour"
   ]
  },
  {
   "cell_type": "markdown",
   "id": "322c7f74-b9be-4c12-a7f3-8735cd377552",
   "metadata": {},
   "source": [
    "## Fonctions format() et input()"
   ]
  },
  {
   "cell_type": "code",
   "execution_count": 3,
   "id": "01b1712f-e994-4e81-97b7-57d9a5f2e127",
   "metadata": {},
   "outputs": [
    {
     "name": "stdout",
     "output_type": "stream",
     "text": [
      "La valeur de x est 10 et la valeur de y est 20\n"
     ]
    }
   ],
   "source": [
    "#Foramt()\n",
    "print(\"La valeur de x est {} et la valeur de y est {}\".format(x, y))"
   ]
  },
  {
   "cell_type": "raw",
   "id": "9232521e-c915-4361-bf98-eab885ed3404",
   "metadata": {},
   "source": [
    "{} sont des marqueurs de positions"
   ]
  },
  {
   "cell_type": "code",
   "execution_count": 4,
   "id": "8d8fedab-d62e-4520-afef-40f31c9bf8ec",
   "metadata": {},
   "outputs": [
    {
     "name": "stdout",
     "output_type": "stream",
     "text": [
      "J'aime Python et JavaScript\n"
     ]
    }
   ],
   "source": [
    "print(\"J'aime {} et {}\".format(\"Python\", \"JavaScript\"))"
   ]
  },
  {
   "cell_type": "code",
   "execution_count": 5,
   "id": "0798a252-1b4d-40de-a804-a84983d24746",
   "metadata": {},
   "outputs": [
    {
     "name": "stdout",
     "output_type": "stream",
     "text": [
      "J'aime Python et JavaScript\n"
     ]
    }
   ],
   "source": [
    "print(\"J'aime {x} et {y}\".format(x=\"Python\", y=\"JavaScript\"))"
   ]
  },
  {
   "cell_type": "code",
   "execution_count": 6,
   "id": "0b4609c3-977a-48da-b423-a9c970fed5fe",
   "metadata": {},
   "outputs": [
    {
     "name": "stdout",
     "output_type": "stream",
     "text": [
      "J'aime JavaScript et Python\n"
     ]
    }
   ],
   "source": [
    "print(\"J'aime {1} et {0}\".format(\"Python\", \"JavaScript\"))"
   ]
  },
  {
   "cell_type": "code",
   "execution_count": 8,
   "id": "f18c65a8-4a69-4757-a106-20eb55454d76",
   "metadata": {},
   "outputs": [
    {
     "name": "stdout",
     "output_type": "stream",
     "text": [
      "J'aime Python et JavaScript\n"
     ]
    }
   ],
   "source": [
    "x = 'Python'\n",
    "y = 'JavaScript'\n",
    "print(f'J\\'aime {x} et {y}')"
   ]
  },
  {
   "cell_type": "code",
   "execution_count": 11,
   "id": "59b8f8ed-39da-4e93-a0f6-2c04f1258769",
   "metadata": {},
   "outputs": [
    {
     "name": "stdin",
     "output_type": "stream",
     "text": [
      "Entrer une valeur pour x 10\n"
     ]
    },
    {
     "name": "stdout",
     "output_type": "stream",
     "text": [
      "10\n",
      "<class 'int'>\n"
     ]
    }
   ],
   "source": [
    "#input()\n",
    "x = int(input('Entrer une valeur pour x')) #int\n",
    "print(x)\n",
    "print(type(x))"
   ]
  },
  {
   "cell_type": "code",
   "execution_count": null,
   "id": "76e1af75-b519-4f41-a08b-176a5f6d056a",
   "metadata": {},
   "outputs": [],
   "source": []
  }
 ],
 "metadata": {
  "kernelspec": {
   "display_name": "Python 3 (ipykernel)",
   "language": "python",
   "name": "python3"
  },
  "language_info": {
   "codemirror_mode": {
    "name": "ipython",
    "version": 3
   },
   "file_extension": ".py",
   "mimetype": "text/x-python",
   "name": "python",
   "nbconvert_exporter": "python",
   "pygments_lexer": "ipython3",
   "version": "3.11.5"
  }
 },
 "nbformat": 4,
 "nbformat_minor": 5
}
