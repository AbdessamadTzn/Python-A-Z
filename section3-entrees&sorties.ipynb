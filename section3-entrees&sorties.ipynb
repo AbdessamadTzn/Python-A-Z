{
 "cells": [
  {
   "cell_type": "markdown",
   "id": "1d1f39c7-2a54-4553-a45f-bdb67811a51a",
   "metadata": {},
   "source": [
    "![My Image](banner.png)"
   ]
  },
  {
   "cell_type": "markdown",
   "id": "47a3fd59-80b8-4bd9-929a-ae3a559eba99",
   "metadata": {},
   "source": [
    "# Python A-Z: Section 3\n",
    "# By **[Abdessamad Touzani](https://www.linkedin.com/in/abdessamadtouzani/)**\n",
    "## Entrées et Sorties dans Python"
   ]
  },
  {
   "cell_type": "code",
   "execution_count": 1,
   "id": "0d0d4af5-59c0-499e-b71b-25bbda4ea53e",
   "metadata": {},
   "outputs": [
    {
     "name": "stdout",
     "output_type": "stream",
     "text": [
      "C'est une chaine de caracteres\n"
     ]
    }
   ],
   "source": [
    "print(\"C'est une chaine de caracteres\")"
   ]
  },
  {
   "cell_type": "code",
   "execution_count": 2,
   "id": "2101d3f8-6ba5-4c1a-8f26-d4fe5471dbbd",
   "metadata": {},
   "outputs": [
    {
     "name": "stdout",
     "output_type": "stream",
     "text": [
      "La valeur de x c'est : 12\n"
     ]
    }
   ],
   "source": [
    "#Affichaage du valeur d'une variable\n",
    "x = 12\n",
    "print(\"La valeur de x c'est :\", x)"
   ]
  },
  {
   "cell_type": "code",
   "execution_count": 3,
   "id": "2f4d2103-9298-4806-b1e0-5a1ba811f333",
   "metadata": {},
   "outputs": [
    {
     "name": "stdout",
     "output_type": "stream",
     "text": [
      "1 2 3 4\n"
     ]
    }
   ],
   "source": [
    "print(1, 2, 3, 4)"
   ]
  },
  {
   "cell_type": "code",
   "execution_count": 4,
   "id": "f5acf3ad-301a-433c-8471-608c7bdb78d5",
   "metadata": {},
   "outputs": [
    {
     "name": "stdout",
     "output_type": "stream",
     "text": [
      "1#2#3#4\n",
      "1#2#3#4&"
     ]
    }
   ],
   "source": [
    "print(1, 2, 3, 4, sep=\"#\") #pr defaut c'est une espace\n",
    "print(1, 2, 3, 4, sep=\"#\", end=\"&\")# end pr defaur c est un retour"
   ]
  },
  {
   "cell_type": "code",
   "execution_count": null,
   "id": "2a62f6a3-2f85-43df-bd5e-7e279d0a055f",
   "metadata": {},
   "outputs": [],
   "source": []
  }
 ],
 "metadata": {
  "kernelspec": {
   "display_name": "Python 3 (ipykernel)",
   "language": "python",
   "name": "python3"
  },
  "language_info": {
   "codemirror_mode": {
    "name": "ipython",
    "version": 3
   },
   "file_extension": ".py",
   "mimetype": "text/x-python",
   "name": "python",
   "nbconvert_exporter": "python",
   "pygments_lexer": "ipython3",
   "version": "3.11.5"
  }
 },
 "nbformat": 4,
 "nbformat_minor": 5
}
