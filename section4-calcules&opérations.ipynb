{
 "cells": [
  {
   "cell_type": "markdown",
   "id": "60b00627-6c9f-4cfe-8f0f-64e65063dc26",
   "metadata": {},
   "source": [
    "## Calcules et Opérations"
   ]
  },
  {
   "cell_type": "markdown",
   "id": "d4356df0-2768-423e-be00-56cb157572e4",
   "metadata": {},
   "source": [
    "### Opérations arithmétiques\n",
    "- Addition +\n",
    "- Soustraaction -\n",
    "- Multiplication *\n",
    "- Division /\n",
    "- Division entière //\n",
    "- Modulus %\n",
    "- Exposant **"
   ]
  },
  {
   "cell_type": "markdown",
   "id": "6529bc39-63b8-488a-821f-8792642f47a7",
   "metadata": {},
   "source": [
    "### Signification d'opérateur"
   ]
  },
  {
   "cell_type": "markdown",
   "id": "ae8c1c44-9897-49bd-96cb-a2b1adb9ae44",
   "metadata": {},
   "source": [
    "### Signification d'opértion arithmétique"
   ]
  },
  {
   "cell_type": "code",
   "execution_count": 1,
   "id": "7172da79-d68c-4cf8-a785-bfc9bf245c7a",
   "metadata": {},
   "outputs": [
    {
     "data": {
      "text/plain": [
       "8"
      ]
     },
     "execution_count": 1,
     "metadata": {},
     "output_type": "execute_result"
    }
   ],
   "source": [
    "#Addition\n",
    "5+3"
   ]
  },
  {
   "cell_type": "code",
   "execution_count": 3,
   "id": "d14c7246-bdba-48c5-88b1-910b8dd5b975",
   "metadata": {},
   "outputs": [
    {
     "data": {
      "text/plain": [
       "4"
      ]
     },
     "execution_count": 3,
     "metadata": {},
     "output_type": "execute_result"
    }
   ],
   "source": [
    "#Soustrction\n",
    "9-5"
   ]
  },
  {
   "cell_type": "code",
   "execution_count": 4,
   "id": "800b3500-ebc1-4bc6-a626-f8af00b6179b",
   "metadata": {},
   "outputs": [
    {
     "data": {
      "text/plain": [
       "20"
      ]
     },
     "execution_count": 4,
     "metadata": {},
     "output_type": "execute_result"
    }
   ],
   "source": [
    "#Multiplication\n",
    "5*4"
   ]
  },
  {
   "cell_type": "code",
   "execution_count": 6,
   "id": "f7d08162-2c8c-4ac0-b02a-db28d3c3beba",
   "metadata": {},
   "outputs": [
    {
     "name": "stdout",
     "output_type": "stream",
     "text": [
      "1.5\n",
      "3.0\n",
      "6.666666666666667\n"
     ]
    }
   ],
   "source": [
    "#Division\n",
    "print(6/4)\n",
    "print(6/2)\n",
    "print(20/3)"
   ]
  },
  {
   "cell_type": "code",
   "execution_count": 7,
   "id": "d0f4e3d5-8768-4cfa-85d1-79aa0b5e297c",
   "metadata": {},
   "outputs": [
    {
     "data": {
      "text/plain": [
       "1"
      ]
     },
     "execution_count": 7,
     "metadata": {},
     "output_type": "execute_result"
    }
   ],
   "source": [
    "#Division entière\n",
    "6//4"
   ]
  },
  {
   "cell_type": "code",
   "execution_count": 8,
   "id": "6e362cc6-4bcc-4fb1-ae16-58740f645807",
   "metadata": {},
   "outputs": [
    {
     "data": {
      "text/plain": [
       "2"
      ]
     },
     "execution_count": 8,
     "metadata": {},
     "output_type": "execute_result"
    }
   ],
   "source": [
    "#Modulus \n",
    "6%4"
   ]
  },
  {
   "cell_type": "code",
   "execution_count": 9,
   "id": "b98d728b-88c0-49e4-807f-e8229091599c",
   "metadata": {},
   "outputs": [
    {
     "data": {
      "text/plain": [
       "64"
      ]
     },
     "execution_count": 9,
     "metadata": {},
     "output_type": "execute_result"
    }
   ],
   "source": [
    "#Exposant\n",
    "4**3"
   ]
  },
  {
   "cell_type": "code",
   "execution_count": 11,
   "id": "8e78a38c-300c-495b-8e3c-693b576849d2",
   "metadata": {},
   "outputs": [
    {
     "name": "stdout",
     "output_type": "stream",
     "text": [
      "x+y =  14\n",
      "x-y =  2\n",
      "x*y =  48\n",
      "x/y =  1.3333333333333333\n",
      "x//y =  1\n",
      "x%y =  2\n",
      "x**y =  262144\n"
     ]
    }
   ],
   "source": [
    "x=8\n",
    "y=6\n",
    "print(\"x+y = \", x+y)\n",
    "print(\"x-y = \", x-y)\n",
    "print(\"x*y = \", x*y)\n",
    "print(\"x/y = \",x/y)\n",
    "print(\"x//y = \",x//y)\n",
    "print(\"x%y = \",x%y)\n",
    "print(\"x**y = \",x**y)"
   ]
  },
  {
   "cell_type": "markdown",
   "id": "a1438af9-8955-47f2-b583-be8dd1526f05",
   "metadata": {},
   "source": [
    "### Opérateurs de compaaraison\n",
    "- Sup >\n",
    "- Inf <\n",
    "- Egal ==\n",
    "- !Egal !=\n",
    "- Sup or egal >=\n",
    "- Inf or egal <="
   ]
  },
  {
   "cell_type": "code",
   "execution_count": 13,
   "id": "2c55378a-c482-481d-8a13-d682080d6e17",
   "metadata": {},
   "outputs": [],
   "source": [
    "x=10\n",
    "y=20"
   ]
  },
  {
   "cell_type": "code",
   "execution_count": 14,
   "id": "250a4242-e8c0-465b-b1cd-5f65397f2e30",
   "metadata": {},
   "outputs": [
    {
     "data": {
      "text/plain": [
       "False"
      ]
     },
     "execution_count": 14,
     "metadata": {},
     "output_type": "execute_result"
    }
   ],
   "source": [
    "x>y"
   ]
  },
  {
   "cell_type": "code",
   "execution_count": 15,
   "id": "9380a517-d3f7-470e-9fc4-3dc7c15e9f78",
   "metadata": {},
   "outputs": [
    {
     "data": {
      "text/plain": [
       "True"
      ]
     },
     "execution_count": 15,
     "metadata": {},
     "output_type": "execute_result"
    }
   ],
   "source": [
    "x<y"
   ]
  },
  {
   "cell_type": "code",
   "execution_count": 16,
   "id": "f6d23fe4-c217-4e1b-8658-d39b6d0a20b5",
   "metadata": {},
   "outputs": [
    {
     "data": {
      "text/plain": [
       "False"
      ]
     },
     "execution_count": 16,
     "metadata": {},
     "output_type": "execute_result"
    }
   ],
   "source": [
    "x==y"
   ]
  },
  {
   "cell_type": "code",
   "execution_count": 17,
   "id": "77e04469-add0-4dea-a5ae-6324006ad096",
   "metadata": {},
   "outputs": [
    {
     "data": {
      "text/plain": [
       "True"
      ]
     },
     "execution_count": 17,
     "metadata": {},
     "output_type": "execute_result"
    }
   ],
   "source": [
    "x!=y"
   ]
  },
  {
   "cell_type": "code",
   "execution_count": 18,
   "id": "ff1afd87-3078-4979-8ab4-85229b48ff11",
   "metadata": {},
   "outputs": [
    {
     "data": {
      "text/plain": [
       "False"
      ]
     },
     "execution_count": 18,
     "metadata": {},
     "output_type": "execute_result"
    }
   ],
   "source": [
    "x>=y"
   ]
  },
  {
   "cell_type": "code",
   "execution_count": 19,
   "id": "5378c31e-d77b-422f-8bc5-367cf6702d1c",
   "metadata": {},
   "outputs": [
    {
     "data": {
      "text/plain": [
       "True"
      ]
     },
     "execution_count": 19,
     "metadata": {},
     "output_type": "execute_result"
    }
   ],
   "source": [
    "x<=y"
   ]
  },
  {
   "cell_type": "markdown",
   "id": "a06707b8-87ee-4365-90d7-75cd0f81f921",
   "metadata": {},
   "source": [
    "### Opérteurs Logiques:"
   ]
  },
  {
   "cell_type": "markdown",
   "id": "f5baf2c9",
   "metadata": {},
   "source": [
    "**and:** True (vraie) si les deux opérands sont True \n",
    "\n",
    "**or:** True si l'un des opérands est True \n",
    "\n",
    "**not:** True si l'opérand est false (faux)"
   ]
  },
  {
   "cell_type": "markdown",
   "id": "2dd8fcdc",
   "metadata": {},
   "source": []
  },
  {
   "cell_type": "code",
   "execution_count": 2,
   "id": "250e5a51",
   "metadata": {},
   "outputs": [
    {
     "data": {
      "text/plain": [
       "bool"
      ]
     },
     "execution_count": 2,
     "metadata": {},
     "output_type": "execute_result"
    }
   ],
   "source": [
    "a = True\n",
    "b = True\n",
    "type(a)"
   ]
  },
  {
   "cell_type": "code",
   "execution_count": 3,
   "id": "b937481d",
   "metadata": {},
   "outputs": [
    {
     "data": {
      "text/plain": [
       "True"
      ]
     },
     "execution_count": 3,
     "metadata": {},
     "output_type": "execute_result"
    }
   ],
   "source": [
    "a and b"
   ]
  },
  {
   "cell_type": "code",
   "execution_count": 4,
   "id": "1bf711db",
   "metadata": {},
   "outputs": [
    {
     "data": {
      "text/plain": [
       "True"
      ]
     },
     "execution_count": 4,
     "metadata": {},
     "output_type": "execute_result"
    }
   ],
   "source": [
    "a or b"
   ]
  },
  {
   "cell_type": "code",
   "execution_count": 5,
   "id": "c782d782",
   "metadata": {},
   "outputs": [
    {
     "data": {
      "text/plain": [
       "False"
      ]
     },
     "execution_count": 5,
     "metadata": {},
     "output_type": "execute_result"
    }
   ],
   "source": [
    "not a"
   ]
  },
  {
   "cell_type": "code",
   "execution_count": 6,
   "id": "a4b9310b",
   "metadata": {},
   "outputs": [],
   "source": [
    "c = False"
   ]
  },
  {
   "cell_type": "code",
   "execution_count": 7,
   "id": "f516c123",
   "metadata": {},
   "outputs": [
    {
     "data": {
      "text/plain": [
       "False"
      ]
     },
     "execution_count": 7,
     "metadata": {},
     "output_type": "execute_result"
    }
   ],
   "source": [
    "a and c"
   ]
  },
  {
   "cell_type": "code",
   "execution_count": 8,
   "id": "9b56a1ea",
   "metadata": {},
   "outputs": [
    {
     "data": {
      "text/plain": [
       "True"
      ]
     },
     "execution_count": 8,
     "metadata": {},
     "output_type": "execute_result"
    }
   ],
   "source": [
    "a or c"
   ]
  },
  {
   "cell_type": "code",
   "execution_count": 9,
   "id": "563c06dc",
   "metadata": {},
   "outputs": [
    {
     "data": {
      "text/plain": [
       "True"
      ]
     },
     "execution_count": 9,
     "metadata": {},
     "output_type": "execute_result"
    }
   ],
   "source": [
    "not c"
   ]
  },
  {
   "cell_type": "code",
   "execution_count": 10,
   "id": "97f9bfa9",
   "metadata": {},
   "outputs": [
    {
     "data": {
      "text/plain": [
       "1"
      ]
     },
     "execution_count": 10,
     "metadata": {},
     "output_type": "execute_result"
    }
   ],
   "source": [
    "1 and 1"
   ]
  },
  {
   "cell_type": "code",
   "execution_count": 11,
   "id": "b152ede5",
   "metadata": {},
   "outputs": [
    {
     "data": {
      "text/plain": [
       "0"
      ]
     },
     "execution_count": 11,
     "metadata": {},
     "output_type": "execute_result"
    }
   ],
   "source": [
    "1 and 0"
   ]
  },
  {
   "cell_type": "code",
   "execution_count": 12,
   "id": "552275fc",
   "metadata": {},
   "outputs": [
    {
     "data": {
      "text/plain": [
       "1"
      ]
     },
     "execution_count": 12,
     "metadata": {},
     "output_type": "execute_result"
    }
   ],
   "source": [
    "0 or 1"
   ]
  },
  {
   "cell_type": "code",
   "execution_count": 13,
   "id": "a9af8ec9",
   "metadata": {},
   "outputs": [
    {
     "data": {
      "text/plain": [
       "True"
      ]
     },
     "execution_count": 13,
     "metadata": {},
     "output_type": "execute_result"
    }
   ],
   "source": [
    "not 0"
   ]
  },
  {
   "cell_type": "code",
   "execution_count": 14,
   "id": "982844de",
   "metadata": {},
   "outputs": [
    {
     "data": {
      "text/plain": [
       "False"
      ]
     },
     "execution_count": 14,
     "metadata": {},
     "output_type": "execute_result"
    }
   ],
   "source": [
    "not 1"
   ]
  },
  {
   "cell_type": "markdown",
   "id": "34858cda",
   "metadata": {},
   "source": [
    "# Par: **[Abdessamad Touzani](https://www.linkedin.com/in/abdessamadtouzani)**\n",
    "#### **[Nos Liens](https://linktr.ee/katskystudio_fr)**"
   ]
  },
  {
   "cell_type": "markdown",
   "id": "f51f11b9",
   "metadata": {},
   "source": []
  }
 ],
 "metadata": {
  "kernelspec": {
   "display_name": "Python 3 (ipykernel)",
   "language": "python",
   "name": "python3"
  },
  "language_info": {
   "codemirror_mode": {
    "name": "ipython",
    "version": 3
   },
   "file_extension": ".py",
   "mimetype": "text/x-python",
   "name": "python",
   "nbconvert_exporter": "python",
   "pygments_lexer": "ipython3",
   "version": "3.11.5"
  }
 },
 "nbformat": 4,
 "nbformat_minor": 5
}
